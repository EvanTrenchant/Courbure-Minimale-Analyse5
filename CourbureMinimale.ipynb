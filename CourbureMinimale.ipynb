{
 "cells": [
  {
   "cell_type": "markdown",
   "metadata": {},
   "source": [
    "# Courbure Minimale"
   ]
  },
  {
   "cell_type": "markdown",
   "metadata": {
    "vscode": {
     "languageId": "plaintext"
    }
   },
   "source": [
    "## 1 Courbes de Bézier"
   ]
  },
  {
   "cell_type": "markdown",
   "metadata": {
    "vscode": {
     "languageId": "plaintext"
    }
   },
   "source": [
    "1. On fixe $A_0 = (-1, 0)$ et $A_n = (1, 0)$. Représenter plusieurs courbes de Bézier avec $n = 2, 3, 4$ et différents choix de points de contrôle afin de comprendre leur rôle pour la forme de la courbe.\n"
   ]
  },
  {
   "cell_type": "markdown",
   "metadata": {},
   "source": [
    "2. Les pentes initiales et finales sont fixées : $p_0$ en $A_0$ et $p_n$ en $A_n$. Déterminer les conditions sur les points de contrôle permettant de satisfaire ces conditions."
   ]
  },
  {
   "cell_type": "markdown",
   "metadata": {},
   "source": [
    "3. Représenter des courbes de Bézier satisfaisant $p_0 = 1$ et $p_n = -1$. Idem avec $p_0 = 0$ et $p_n = -2$."
   ]
  },
  {
   "cell_type": "markdown",
   "metadata": {},
   "source": [
    "4. La longueur de nos courbes de Bézier est donnée par $L(\\gamma) = \\int_0^1 \\sqrt{x'(t)^2 + y'(t)^2} \\, dt$. Déterminer (au moins approximativement) et représenter des courbes de Bézier (avec les mêmes extrémités que précédemment) de longueurs 3 et 4.\n"
   ]
  },
  {
   "cell_type": "markdown",
   "metadata": {
    "vscode": {
     "languageId": "plaintext"
    }
   },
   "source": [
    "## 2 Courbe de courbure minimale"
   ]
  },
  {
   "cell_type": "markdown",
   "metadata": {},
   "source": [
    "1. Écrire un programme qui, pour des fonctions $x$ et $y$ et un paramètre $t$, calcule la courbure de la courbe correspondante en $t$."
   ]
  },
  {
   "cell_type": "markdown",
   "metadata": {},
   "source": [
    "2. Écrire un programme qui calcule la courbure maximale d’une courbe paramétrée."
   ]
  },
  {
   "cell_type": "markdown",
   "metadata": {},
   "source": [
    "3. Donner plusieurs exemples en repérant graphiquement les points de courbure maximale."
   ]
  },
  {
   "cell_type": "markdown",
   "metadata": {},
   "source": [
    "4. Proposer une démarche, basée sur le nombre de points de contrôle et surtout leur position, permettant d’obtenir une courbe qui respecte les contraintes en $A_0$ et $A_n$ et qui minimise la courbure maximale."
   ]
  },
  {
   "cell_type": "markdown",
   "metadata": {},
   "source": [
    "5. Recommencer avec des pentes différentes en les deux points."
   ]
  },
  {
   "cell_type": "markdown",
   "metadata": {},
   "source": [
    "6. Pourrait-on, si on considérait autre chose que les courbes de Bézier, trouver une solution de courbure maximale aussi petite que voulue ?"
   ]
  },
  {
   "cell_type": "markdown",
   "metadata": {},
   "source": [
    "7. (Bonus) Ajouter la contrainte de recollements de classe $C^2$ en $A_0$ et $A_n$ et déterminer ainsi de meilleures solutions au problème."
   ]
  },
  {
   "cell_type": "markdown",
   "metadata": {
    "vscode": {
     "languageId": "plaintext"
    }
   },
   "source": [
    "## 3 Courbe élastique"
   ]
  },
  {
   "cell_type": "markdown",
   "metadata": {},
   "source": [
    "1. Écrire un programme qui calcule la valeur numérique de $K$ d’une courbe donnée."
   ]
  },
  {
   "cell_type": "markdown",
   "metadata": {},
   "source": [
    "2. Proposer plusieurs exemples de telles courbes et calculer la valeur de $K$ correspondante."
   ]
  },
  {
   "cell_type": "markdown",
   "metadata": {},
   "source": [
    "3. Proposer une procédure, basée sur le nombre de points de contrôle et surtout leur position, qui, à partir d’une courbe donnée avec une certaine valeur de $K$, construit une nouvelle courbe (toujours de longueur approximative égale à 3) dont la valeur de $K$ devrait être inférieure."
   ]
  },
  {
   "cell_type": "markdown",
   "metadata": {},
   "source": [
    "4. Utiliser cette procédure pour approcher autant que possible la courbe solution\n",
    "du problème."
   ]
  },
  {
   "cell_type": "markdown",
   "metadata": {},
   "source": [
    "5. Recommencer avec d’autres longueurs $L$."
   ]
  }
 ],
 "metadata": {
  "kernelspec": {
   "display_name": "base",
   "language": "python",
   "name": "python3"
  },
  "language_info": {
   "codemirror_mode": {
    "name": "ipython",
    "version": 3
   },
   "file_extension": ".py",
   "mimetype": "text/x-python",
   "name": "python",
   "nbconvert_exporter": "python",
   "pygments_lexer": "ipython3",
   "version": "3.11.5"
  }
 },
 "nbformat": 4,
 "nbformat_minor": 2
}
